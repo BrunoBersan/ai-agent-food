{
 "cells": [
  {
   "cell_type": "code",
   "execution_count": 16,
   "id": "78485486",
   "metadata": {},
   "outputs": [],
   "source": [
    "import pandas as pd\n",
    "from langchain_community.document_loaders import TextLoader\n",
    "from langchain.text_splitter import TokenTextSplitter\n",
    "from langchain_community.vectorstores import FAISS \n",
    "from langchain_community.llms import HuggingFacePipeline  \n",
    "from langchain.chains import RetrievalQA\n",
    "from langchain.embeddings import OpenAIEmbeddings\n",
    "from transformers import AutoTokenizer, AutoModelForSeq2SeqLM, pipeline\n",
    "from langchain.prompts import PromptTemplate\n",
    "\n",
    "import os"
   ]
  },
  {
   "cell_type": "code",
   "execution_count": null,
   "id": "887328b0",
   "metadata": {},
   "outputs": [],
   "source": [
    "loader = TextLoader('../data/cardapio_preparado.txt', encoding='utf-8')\n",
    "docs = loader.load()\n",
    "\n",
    "splitter = TokenTextSplitter(\n",
    "    chunk_size=300, chunk_overlap=100\n",
    ")\n",
    "\n",
    "documents = splitter.split_documents(docs)"
   ]
  },
  {
   "cell_type": "code",
   "execution_count": 9,
   "id": "e3f126bb",
   "metadata": {},
   "outputs": [],
   "source": [
    "embedding_model = OpenAIEmbeddings()\n",
    "vectorstore = FAISS.from_documents(documents, embedding_model)\n",
    "retriever = vectorstore.as_retriever(search_type=\"similarity\", search_kwargs={\"k\": 5})"
   ]
  },
  {
   "cell_type": "code",
   "execution_count": 28,
   "id": "a80649a4",
   "metadata": {},
   "outputs": [],
   "source": [
    "from langchain.chat_models import ChatOpenAI\n",
    "llm = ChatOpenAI(\n",
    "    model_name=\"gpt-4o-mini\",  # ou gpt-4, gpt-4o-mini, gpt-3.5-turbo\n",
    "    temperature=0,\n",
    "    max_tokens=256,\n",
    ")"
   ]
  },
  {
   "cell_type": "code",
   "execution_count": 30,
   "id": "1a935208",
   "metadata": {},
   "outputs": [],
   "source": [
    "from langchain.chat_models import ChatOpenAI\n",
    "from langchain.prompts import PromptTemplate\n",
    "from langchain.chains import RetrievalQA\n",
    "from langchain.schema import Document\n",
    "\n",
    "# Define o modelo da OpenAI\n",
    "llm = ChatOpenAI(\n",
    "    model_name=\"gpt-4o\",  # ou gpt-4, gpt-4o-mini, gpt-3.5-turbo\n",
    "    temperature=0,\n",
    "    max_tokens=512,\n",
    ")\n",
    "\n",
    "# Template de prompt\n",
    "template = \"\"\"\n",
    "Você é um assistente especializado em cardápios de restaurantes.\n",
    "\n",
    "Baseado nas informações abaixo, responda de forma clara, direta e objetiva a pergunta do usuário.\n",
    "Se a informação não estiver presente, informe que não há dados disponíveis.\n",
    "Se a pergunta não for sobre cardápios, informe que você não pode ajudar com isso.\n",
    "\n",
    "Contexto:\n",
    "{context}\n",
    "\n",
    "Pergunta:\n",
    "{question}\n",
    "\n",
    "Resposta:\n",
    "\"\"\"\n",
    "\n",
    "prompt = PromptTemplate(\n",
    "    template=template,\n",
    "    input_variables=[\"context\", \"question\"]\n",
    ")\n",
    "\n",
    "# Criação da cadeia de QA\n",
    "qa_chain = RetrievalQA.from_chain_type(\n",
    "    llm=llm,\n",
    "    retriever=retriever,\n",
    "    chain_type=\"stuff\",\n",
    "    chain_type_kwargs={\"prompt\": prompt},\n",
    "    return_source_documents=True\n",
    ")\n",
    "\n"
   ]
  },
  {
   "cell_type": "code",
   "execution_count": 31,
   "id": "b19c4233",
   "metadata": {},
   "outputs": [],
   "source": [
    "\n",
    "# Exemplo de uso:\n",
    "resposta = qa_chain.invoke({\"query\": \"Tem suco ai?\"})\n"
   ]
  },
  {
   "cell_type": "code",
   "execution_count": 32,
   "id": "68e345d8",
   "metadata": {},
   "outputs": [
    {
     "name": "stdout",
     "output_type": "stream",
     "text": [
      "Sim, há vários sucos disponíveis no cardápio. Aqui estão alguns exemplos:\n",
      "\n",
      "- Laranja C/ Mamão, código 522, a partir de 12,90.\n",
      "- Limão C/ Água, código 519, a partir de 10,90.\n",
      "- Limonada Suíça, código 525, a partir de 12,90.\n",
      "- Mamão C/ Água, código 510, a partir de 9,90.\n",
      "- Manga C/ Água, código 511, a partir de 10,90.\n",
      "- Maracujá C/ Água, código 512, a partir de 10,90.\n",
      "- Abacaxi C/ Água, código 501, a partir de 10,90.\n",
      "\n",
      "E muitos outros.\n"
     ]
    }
   ],
   "source": [
    "print(resposta['result'])"
   ]
  },
  {
   "cell_type": "code",
   "execution_count": 27,
   "id": "d422d867",
   "metadata": {},
   "outputs": [
    {
     "data": {
      "text/plain": [
       "[Document(id='cfbb9048-c47a-4128-9c9b-6a6d4b31fd5a', metadata={'source': '../data/cardapio_preparado.txt'}, page_content=', tem o código: 522, é da categoria SUCO, com valor a partir de 12,90. O produto: Laranja C/ Morango, tem o código: 524, é da categoria SUCO, com valor a partir de 12,90. O produto: Limao C/ Agua, tem o código: 519, é da categoria SUCO, com valor a partir de 10,90. O produto: Limonada Suiça, tem o código: 525, é da categoria SUCO, com valor a partir de 12,90. O produto: Limoneto, tem o código: 149, é da categoria REFRIGERANTE, com valor a partir de 7,90. O produto: Limão C/ Leite, tem o código: 547, é da categoria SUCO, com valor a partir de 11,90. O produto: Linguiça, tem o código: 109, é da categoria CARNES, com valor a partir de 145,00. O produto: Loirinha Cookies, tem o código: 722, é da categoria SORVETE, com valor a partir de 10,50.'),\n",
       " Document(id='bfcf7d33-c16a-4995-9337-eab2d433934e', metadata={'source': '../data/cardapio_preparado.txt'}, page_content='VEJA, com valor a partir de 9,50. O produto: Mamão C/ Agua, tem o código: 510, é da categoria SUCO, com valor a partir de 9,90. O produto: Mamão C/ Leite, tem o código: 538, é da categoria SUCO, com valor a partir de 11,90. O produto: Mandioca Frita, tem o código: 602, é da categoria PORÇÃO, com valor a partir de 35,00. O produto: Manga C/ Agua, tem o código: 511, é da categoria SUCO, com valor a partir de 10,90. O produto: Manga C/ Leite, tem o código: 539, é da categoria SUCO, com valor a partir de 12,90. O produto: Maracuja C/ Agua, tem o código: 512, é da categoria SUCO, com valor a partir de 10,90. O produto: Maracujá C/ Leite, tem o código: 540, é da categoria SUCO, com valor a partir de 12,90. O produto: Margarita Blue, tem'),\n",
       " Document(id='61652f0d-ff9f-4f6a-9aac-21e81bf42a04', metadata={'source': '../data/cardapio_preparado.txt'}, page_content='O produto: Abacaxi C/ Agua, tem o código: 501, é da categoria SUCO, com valor a partir de 10,90. O produto: Abacaxi C/ Hortela, tem o código: 562, é da categoria SUCO, com valor a partir de 12,90. O produto: Abacaxi C/ Leite, tem o código: 529, é da categoria SUCO, com valor a partir de 12,90. O produto: Acerola C/ Agua, tem o código: 502, é da categoria SUCO, com valor a partir de 10,90. O produto: Acerola C/ Leite, tem o código: 530, é da categoria SUCO, com valor a partir de 12,90. O produto: Adicional, tem o código: 138, é da categoria D i v e r s o s, com valor a partir de 5,00. O produto: Adicional - Leite Condensado, tem o código: 891, é da categoria SUCO, com valor a partir de 2,00. O produto: Adrenalina, tem o código: 285, é da categ'),\n",
       " Document(id='282164e1-0829-4cff-8f6c-77206175225d', metadata={'source': '../data/cardapio_preparado.txt'}, page_content=', tem o código: 897, é da categoria SUCO, com valor a partir de 12,90. O produto: Laranja C/ Acerola, tem o código: 520, é da categoria SUCO, com valor a partir de 12,90. O produto: Laranja C/ Hortelã, tem o código: 523, é da categoria SUCO, com valor a partir de 12,90. O produto: Laranja C/ Leite, tem o código: 528, é da categoria SUCO, com valor a partir de 12,90. O produto: Laranja C/ Limão, tem o código: 521, é da categoria SUCO, com valor a partir de 12,90. O produto: Laranja C/ Mamão, tem o código: 522, é da categoria SUCO, com valor a partir de 12,90. O produto: Laranja C/ Morango, tem o código: 524, é da categoria SUCO, com valor a partir de 12,90. O produto: Limao C/ Agua, tem o código: 519, é da categoria SUCO, com valor'),\n",
       " Document(id='b47835a2-ef1d-4451-8908-d2319f3a36f6', metadata={'source': '../data/cardapio_preparado.txt'}, page_content='ua, tem o código: 503, é da categoria SUCO, com valor a partir de 10,90. O produto: Açai C/ Leite, tem o código: 531, é da categoria SUCO, com valor a partir de 12,90. O produto: Açai/pistache- Beg Pote, tem o código: 126, é da categoria SORVETE, com valor a partir de 18,00. O produto: Bala Baiana, tem o código: 702, é da categoria BALA/DOCE EM GERAL, com valor a partir de 6,00. O produto: Bala de Coco, tem o código: 148, é da categoria BALA/DOCE EM GERAL, com valor a partir de 14,00. O produto: Basquete Docinho, tem o código: 358, é da categoria BALA/DOCE EM GERAL, com valor a partir de 15,00. O produto: Batata Frita, tem o código: 600, é da categoria PORÇÃO, com valor a partir de 35,00. O produto: Batida de Champagne, tem o código:')]"
      ]
     },
     "execution_count": 27,
     "metadata": {},
     "output_type": "execute_result"
    }
   ],
   "source": [
    "resposta['source_documents']"
   ]
  }
 ],
 "metadata": {
  "kernelspec": {
   "display_name": "langchain_env",
   "language": "python",
   "name": "python3"
  },
  "language_info": {
   "codemirror_mode": {
    "name": "ipython",
    "version": 3
   },
   "file_extension": ".py",
   "mimetype": "text/x-python",
   "name": "python",
   "nbconvert_exporter": "python",
   "pygments_lexer": "ipython3",
   "version": "3.11.13"
  }
 },
 "nbformat": 4,
 "nbformat_minor": 5
}
